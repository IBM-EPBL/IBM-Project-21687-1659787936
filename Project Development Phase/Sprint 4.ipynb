{
  "nbformat": 4,
  "nbformat_minor": 0,
  "metadata": {
    "colab": {
      "provenance": [],
      "collapsed_sections": [
        "7PZjp7HuLqDs",
        "DaWsJl-fMDTg"
      ]
    },
    "kernelspec": {
      "name": "python3",
      "display_name": "Python 3"
    },
    "language_info": {
      "name": "python"
    }
  },
  "cells": [
    {
      "cell_type": "markdown",
      "source": [
        "SAVING AND TESTING THE MODEL"
      ],
      "metadata": {
        "id": "foXx1abILRRw"
      }
    },
    {
      "cell_type": "markdown",
      "source": [
        "# Testing the model"
      ],
      "metadata": {
        "id": "7PZjp7HuLqDs"
      }
    },
    {
      "cell_type": "code",
      "execution_count": null,
      "metadata": {
        "id": "PoyT_TpULQEN"
      },
      "outputs": [],
      "source": [
        "prediction = model.predict(x_test[:6])\n",
        "prediction"
      ]
    },
    {
      "cell_type": "markdown",
      "source": [],
      "metadata": {
        "id": "sx41xgzWL04f"
      }
    },
    {
      "cell_type": "markdown",
      "source": [
        "# Obseving the metrics post testing"
      ],
      "metadata": {
        "id": "DaWsJl-fMDTg"
      }
    },
    {
      "cell_type": "code",
      "source": [
        "metrics = model.evaluate(x_test,y_test,verbose=1)\n",
        "print(\"Metrics(Test loss & Test accuracy):\")\n",
        "print(metrics)"
      ],
      "metadata": {
        "id": "fHtuV0GqMHxk"
      },
      "execution_count": null,
      "outputs": []
    },
    {
      "cell_type": "markdown",
      "source": [
        "# Testing the model"
      ],
      "metadata": {
        "id": "La_z3IO6MMTj"
      }
    },
    {
      "cell_type": "code",
      "source": [
        "prediction = model.predict(x_test[:6])\n",
        "prediction"
      ],
      "metadata": {
        "id": "cTtATufDML45"
      },
      "execution_count": null,
      "outputs": []
    },
    {
      "cell_type": "code",
      "source": [
        "import numpy as np\n",
        "print(np.argmax(prediction,axis=1))\n",
        "print(y_test[:6])"
      ],
      "metadata": {
        "id": "AuKZHbmjMUoE"
      },
      "execution_count": null,
      "outputs": []
    },
    {
      "cell_type": "markdown",
      "source": [
        "# Saving the model"
      ],
      "metadata": {
        "id": "U2Zz8Di7McVn"
      }
    },
    {
      "cell_type": "code",
      "source": [
        "model.save(mnist.h5)"
      ],
      "metadata": {
        "id": "l2WA8tVcMeqR"
      },
      "execution_count": null,
      "outputs": []
    },
    {
      "cell_type": "markdown",
      "source": [
        "# Test with saved model"
      ],
      "metadata": {
        "id": "gFx04q7NMobE"
      }
    },
    {
      "cell_type": "code",
      "source": [
        "from tensorflow.keras.models import load_model \n",
        "model=load_model(\n",
        ") \n",
        "from PIL import Image \n",
        "import numpy as np \n",
        "for index in range(4):\n",
        "  img=Image.open('data/'+str(index)+.png).convert(\"L\")\n",
        "  img=img.resize((28,28)) \n",
        "  im2arr=np.array(img) \n",
        "  im2arr=im2arr.reshape(1,28,28,1) \n",
        "  y_pred=model.predict(im2arr) \n",
        "  print(y_pred)"
      ],
      "metadata": {
        "id": "1zmSuqwgMn7V"
      },
      "execution_count": null,
      "outputs": []
    }
  ]
}