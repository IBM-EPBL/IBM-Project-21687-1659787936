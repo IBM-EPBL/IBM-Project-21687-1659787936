{
  "nbformat": 4,
  "nbformat_minor": 0,
  "metadata": {
    "colab": {
      "provenance": []
    },
    "kernelspec": {
      "name": "python3",
      "display_name": "Python 3"
    },
    "language_info": {
      "name": "python"
    }
  },
  "cells": [
    {
      "cell_type": "markdown",
      "source": [
        "TRAINING THE MODEL "
      ],
      "metadata": {
        "id": "RPmUd7QCFRmr"
      }
    },
    {
      "cell_type": "markdown",
      "source": [
        "# Fitting the model"
      ],
      "metadata": {
        "id": "-MxE71t6IR-E"
      }
    },
    {
      "cell_type": "code",
      "execution_count": null,
      "metadata": {
        "id": "JHZ-ZAiuE_ot"
      },
      "outputs": [],
      "source": [
        "model.fit(x_train,y_train,validation_data=(x_test,y_test),epochs=10,batch_size=32)"
      ]
    },
    {
      "cell_type": "markdown",
      "source": [
        "# Observing the metrics"
      ],
      "metadata": {
        "id": "c1PnfT1LIcjk"
      }
    },
    {
      "cell_type": "code",
      "source": [
        "metrics = model.evaluate(x_test,y_test,verbose=1)\n",
        "print(\"Metrics(Test loss & Test accuracy):\")\n",
        "print(metrics)"
      ],
      "metadata": {
        "id": "cADKshBbIfh5"
      },
      "execution_count": null,
      "outputs": []
    },
    {
      "cell_type": "markdown",
      "source": [
        "# Model prediction"
      ],
      "metadata": {
        "id": "FmrodmbPInAC"
      }
    },
    {
      "cell_type": "code",
      "source": [
        "prediction = model.predict(x_test[:6])\n",
        "prediction"
      ],
      "metadata": {
        "id": "ImFxlxnfIsnf"
      },
      "execution_count": null,
      "outputs": []
    },
    {
      "cell_type": "code",
      "source": [
        "import numpy as np\n",
        "print(np.argmax(prediction,axis=1))\n",
        "print(y_test[:6])"
      ],
      "metadata": {
        "id": "JzqtmdUJIujc"
      },
      "execution_count": null,
      "outputs": []
    },
    {
      "cell_type": "code",
      "source": [
        "model.save('mnist_cnn.h5')"
      ],
      "metadata": {
        "id": "tlV_JBayI6BF"
      },
      "execution_count": null,
      "outputs": []
    }
  ]
}