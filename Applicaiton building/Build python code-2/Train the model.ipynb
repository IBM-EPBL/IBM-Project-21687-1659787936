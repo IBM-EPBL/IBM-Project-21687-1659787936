{
  "nbformat": 4,
  "nbformat_minor": 0,
  "metadata": {
    "colab": {
      "provenance": []
    },
    "kernelspec": {
      "name": "python3",
      "display_name": "Python 3"
    },
    "language_info": {
      "name": "python"
    }
  },
  "cells": [
    {
      "cell_type": "markdown",
      "source": [
        "MODEL BUILDING"
      ],
      "metadata": {
        "id": "BOd1gGCNDgL0"
      }
    },
    {
      "cell_type": "markdown",
      "source": [
        "# Adding CNN layers"
      ],
      "metadata": {
        "id": "WDe575OlDkYo"
      }
    },
    {
      "cell_type": "code",
      "execution_count": null,
      "metadata": {
        "id": "M4kb9QmADdPh"
      },
      "outputs": [],
      "source": [
        "model=Sequential() \n",
        "model.add(Conv2D(64,(3,3),input_shape=(28,28,1),activation='relu'))\n",
        "model.add(MaxPooling2D(pool_size=(2,2)))\n",
        "model.add(Conv2D(256,(3,3),input_shape=(28,28,1),activation='relu')) \n",
        "model.add(MaxPooling2D(pool_size=(2,2)))\n",
        "model.add(Conv2D(32,(3,3),input_shape=(28,28,1),activation='relu')) \n",
        "model.add(MaxPooling2D(pool_size=(2,2)))\n",
        "model.add(Flatten()) \n",
        "model.add(Dense(10,activation='softmax'))"
      ]
    },
    {
      "cell_type": "markdown",
      "source": [
        "# Compiling the model"
      ],
      "metadata": {
        "id": "oYfwxZZWDzxa"
      }
    },
    {
      "cell_type": "code",
      "source": [
        "model.compile(loss='categorical_crossentropy',optimizer=\"Adam\",metrics=['accuracy'])"
      ],
      "metadata": {
        "id": "Il9O5EfSD8Y-"
      },
      "execution_count": null,
      "outputs": []
    },
    {
      "cell_type": "markdown",
      "source": [
        "# Summarizing the model"
      ],
      "metadata": {
        "id": "MOEcOntYD-7n"
      }
    },
    {
      "cell_type": "code",
      "source": [
        "model.summary()"
      ],
      "metadata": {
        "id": "JJZweLYcED6W"
      },
      "execution_count": null,
      "outputs": []
    }
  ]
}